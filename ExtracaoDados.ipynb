{
 "cells": [
  {
   "cell_type": "code",
   "execution_count": 1,
   "id": "17d946d4",
   "metadata": {},
   "outputs": [
    {
     "name": "stderr",
     "output_type": "stream",
     "text": [
      "c:\\Users\\Bianca\\Documents\\PYTHON\\PROJETO FINAL\\venv\\Lib\\site-packages\\tqdm\\auto.py:21: TqdmWarning: IProgress not found. Please update jupyter and ipywidgets. See https://ipywidgets.readthedocs.io/en/stable/user_install.html\n",
      "  from .autonotebook import tqdm as notebook_tqdm\n"
     ]
    },
    {
     "name": "stdout",
     "output_type": "stream",
     "text": [
      "Dataset salvo com sucesso em 'data/'!\n"
     ]
    }
   ],
   "source": [
    "import os\n",
    "import pandas as pd\n",
    "import kagglehub\n",
    "\n",
    "# Criar a pasta 'data' se não existir\n",
    "os.makedirs(\"data\", exist_ok=True)\n",
    "\n",
    "# Baixar o dataset\n",
    "path = kagglehub.dataset_download(\"tmdb/tmdb-movie-metadata\")\n",
    "df = pd.read_csv(path + \"/tmdb_5000_movies.csv\")\n",
    "\n",
    "# Salvar CSV\n",
    "df.to_csv(\"data/tmdb_5000_movies.csv\", index=False)\n",
    "\n",
    "# Salvar JSON\n",
    "df.to_json(\"data/tmdb_5000_movies.json\", orient=\"records\", lines=True)\n",
    "\n",
    "print(\"Dataset salvo com sucesso em 'data/'!\")\n"
   ]
  }
 ],
 "metadata": {
  "kernelspec": {
   "display_name": "venv",
   "language": "python",
   "name": "python3"
  },
  "language_info": {
   "codemirror_mode": {
    "name": "ipython",
    "version": 3
   },
   "file_extension": ".py",
   "mimetype": "text/x-python",
   "name": "python",
   "nbconvert_exporter": "python",
   "pygments_lexer": "ipython3",
   "version": "3.13.7"
  }
 },
 "nbformat": 4,
 "nbformat_minor": 5
}
